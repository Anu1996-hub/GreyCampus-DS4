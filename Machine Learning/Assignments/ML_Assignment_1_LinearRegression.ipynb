{
 "cells": [
  {
   "cell_type": "code",
   "execution_count": 1,
   "id": "b338d737",
   "metadata": {},
   "outputs": [],
   "source": [
    "import numpy as np\n",
    "import matplotlib.pyplot as plt"
   ]
  },
  {
   "cell_type": "code",
   "execution_count": 2,
   "id": "03a0f9d9",
   "metadata": {},
   "outputs": [],
   "source": [
    "x = np.array([1,2,3,4,5,6,7,8,9,10])\n",
    "y = np.array([100,200,500,600,900,920,940,980,1100,1500])"
   ]
  },
  {
   "cell_type": "code",
   "execution_count": 3,
   "id": "efb8500f",
   "metadata": {},
   "outputs": [
    {
     "data": {
      "text/plain": [
       "<matplotlib.collections.PathCollection at 0x1df6a20ff10>"
      ]
     },
     "execution_count": 3,
     "metadata": {},
     "output_type": "execute_result"
    },
    {
     "data": {
      "image/png": "[encoded data removed]",
      "text/plain": [
       "<Figure size 432x288 with 1 Axes>"
      ]
     },
     "metadata": {
      "needs_background": "light"
     },
     "output_type": "display_data"
    }
   ],
   "source": [
    "plt.scatter(x,y,color='c')"
   ]
  },
  {
   "cell_type": "code",
   "execution_count": 4,
   "id": "e44bdb3d",
   "metadata": {},
   "outputs": [],
   "source": [
    "def estimate_coefficient(x,y):\n",
    "    n= np.size(x)\n",
    "    mean_x = np.mean(x)\n",
    "    mean_y = np.mean(y)\n",
    "    SSE_xy = np.sum(y*x- n*mean_y*mean_x)\n",
    "    SSE_xx = np.sum(x*x - n*mean_x*mean_x)\n",
    "    b1 = SSE_xy/SSE_xx\n",
    "    b0 = mean_y -b1*mean_x\n",
    "    return(b0,b1)"
   ]
  },
  {
   "cell_type": "code",
   "execution_count": 5,
   "id": "078aeb3c",
   "metadata": {},
   "outputs": [],
   "source": [
    "def plot_regresiion_line(x,y,b):\n",
    "    plt.scatter(x,y,color='g',marker= 'o')\n",
    "    y_pred= b[0]+b[1]*x\n",
    "    plt.plot(x,y_pred,color ='b')\n",
    "    plt.xlabel('Product code')\n",
    "    plt.ylabel('sale of product')\n",
    "    plt.show()"
   ]
  },
  {
   "cell_type": "code",
   "execution_count": 6,
   "id": "15e71ab8",
   "metadata": {},
   "outputs": [
    {
     "name": "stdout",
     "output_type": "stream",
     "text": [
      "estimate coefficient : \n",
      "b0- -0.9166666666667425 \n",
      "b1= 140.8939393939394\n"
     ]
    },
    {
     "data": {
      "image/png": "[encoded data removed]",
      "text/plain": [
       "<Figure size 432x288 with 1 Axes>"
      ]
     },
     "metadata": {
      "needs_background": "light"
     },
     "output_type": "display_data"
    }
   ],
   "source": [
    "b = estimate_coefficient(x,y)\n",
    "print (f'estimate coefficient : \\nb0- {b[0]} \\nb1= {b[1]}')\n",
    "plot_regresiion_line(x,y,b)"
   ]
  },
  {
   "cell_type": "code",
   "execution_count": null,
   "id": "eaa525b4",
   "metadata": {},
   "outputs": [],
   "source": []
  }
 ],
 "metadata": {
  "kernelspec": {
   "display_name": "Python 3",
   "language": "python",
   "name": "python3"
  },
  "language_info": {
   "codemirror_mode": {
    "name": "ipython",
    "version": 3
   },
   "file_extension": ".py",
   "mimetype": "text/x-python",
   "name": "python",
   "nbconvert_exporter": "python",
   "pygments_lexer": "ipython3",
   "version": "3.8.8"
  }
 },
 "nbformat": 4,
 "nbformat_minor": 5
}
